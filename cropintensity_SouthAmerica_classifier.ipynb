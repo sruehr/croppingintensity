{
  "nbformat": 4,
  "nbformat_minor": 0,
  "metadata": {
    "colab": {
      "provenance": [],
      "collapsed_sections": [
        "CfY0eH6poG7_"
      ],
      "authorship_tag": "ABX9TyM6qnneYb1jwF5tciDEvswF",
      "include_colab_link": true
    },
    "kernelspec": {
      "name": "python3",
      "display_name": "Python 3"
    },
    "language_info": {
      "name": "python"
    }
  },
  "cells": [
    {
      "cell_type": "markdown",
      "metadata": {
        "id": "view-in-github",
        "colab_type": "text"
      },
      "source": [
        "<a href=\"https://colab.research.google.com/github/sruehr/croppingintensity/blob/main/cropintensity_SouthAmerica_classifier.ipynb\" target=\"_parent\"><img src=\"https://colab.research.google.com/assets/colab-badge.svg\" alt=\"Open In Colab\"/></a>"
      ]
    },
    {
      "cell_type": "markdown",
      "source": [
        "# Classifying South American cropping intensity, 2000-present\n",
        "## Goal: create an annual map at 500m resolution of cropping intensity over South America\n",
        "\n",
        "## Steps\n",
        "\n",
        "1.  Import Zhang + 2021 cropping intensity asset (labels, 2017, 500m CI)\n",
        "2.  Import MODIS temporal data for 2017 (Zhang year)\n",
        "3.  Train classifier on Zhang labels using MODIS data\n",
        "4.  Test performance\n",
        "5.  Run classifier on additional years\n",
        "6.  Calculate statistics\n",
        "7.  Export annual maps as new image"
      ],
      "metadata": {
        "id": "FHa6Er9HlI6t"
      }
    },
    {
      "cell_type": "markdown",
      "source": [
        "## Step 1 & 2: Import Zhang labels and MODIS input feature data"
      ],
      "metadata": {
        "id": "CfY0eH6poG7_"
      }
    },
    {
      "cell_type": "code",
      "source": [
        "# Google Earth Engine Cropping Intensity Analysis\n",
        "# Initial setup to load assets and MODIS data\n",
        "import ee\n",
        "import geemap\n",
        "\n",
        "# Initialize Earth Engine\n",
        "ee.Authenticate()  # Run this first time only\n",
        "ee.Initialize(project='ee-sophieruehr')"
      ],
      "metadata": {
        "colab": {
          "base_uri": "https://localhost:8080/",
          "height": 17
        },
        "id": "-EmxoyxNlFLW",
        "outputId": "0c9655ad-c5fa-4a80-afa2-99803299f4b6"
      },
      "execution_count": null,
      "outputs": [
        {
          "output_type": "display_data",
          "data": {
            "text/plain": [
              "<IPython.core.display.HTML object>"
            ],
            "text/html": [
              "\n",
              "            <style>\n",
              "                .geemap-dark {\n",
              "                    --jp-widgets-color: white;\n",
              "                    --jp-widgets-label-color: white;\n",
              "                    --jp-ui-font-color1: white;\n",
              "                    --jp-layout-color2: #454545;\n",
              "                    background-color: #383838;\n",
              "                }\n",
              "\n",
              "                .geemap-dark .jupyter-button {\n",
              "                    --jp-layout-color3: #383838;\n",
              "                }\n",
              "\n",
              "                .geemap-colab {\n",
              "                    background-color: var(--colab-primary-surface-color, white);\n",
              "                }\n",
              "\n",
              "                .geemap-colab .jupyter-button {\n",
              "                    --jp-layout-color3: var(--colab-primary-surface-color, white);\n",
              "                }\n",
              "            </style>\n",
              "            "
            ]
          },
          "metadata": {}
        }
      ]
    },
    {
      "cell_type": "code",
      "source": [
        "# Load MODIS land cover for agricultural masking (using 2017 to match your labels)\n",
        "landcover = ee.ImageCollection(\"MODIS/061/MCD12Q1\") \\\n",
        "              .filterDate('2017-01-01', '2017-12-31') \\\n",
        "              .first() \\\n",
        "              .select('LC_Type1')\n",
        "\n",
        "# Load Zhang + 2021 cropping intensity asset (resampled modal to 500m)\n",
        "intensity = ee.Image(\"projects/ee-sophieruehr/assets/zhang2021_southamerica_croppingintensity/Cropping_Intensity_2016_2018_500m_merged_INT\")\n",
        "intensity = intensity.where(intensity.eq(-1), 0)"
      ],
      "metadata": {
        "colab": {
          "base_uri": "https://localhost:8080/",
          "height": 17
        },
        "id": "T0lXFc1SmIDA",
        "outputId": "5da677af-208b-4dbe-8a57-d8bbe0ea1c59"
      },
      "execution_count": null,
      "outputs": [
        {
          "output_type": "display_data",
          "data": {
            "text/plain": [
              "<IPython.core.display.HTML object>"
            ],
            "text/html": [
              "\n",
              "            <style>\n",
              "                .geemap-dark {\n",
              "                    --jp-widgets-color: white;\n",
              "                    --jp-widgets-label-color: white;\n",
              "                    --jp-ui-font-color1: white;\n",
              "                    --jp-layout-color2: #454545;\n",
              "                    background-color: #383838;\n",
              "                }\n",
              "\n",
              "                .geemap-dark .jupyter-button {\n",
              "                    --jp-layout-color3: #383838;\n",
              "                }\n",
              "\n",
              "                .geemap-colab {\n",
              "                    background-color: var(--colab-primary-surface-color, white);\n",
              "                }\n",
              "\n",
              "                .geemap-colab .jupyter-button {\n",
              "                    --jp-layout-color3: var(--colab-primary-surface-color, white);\n",
              "                }\n",
              "            </style>\n",
              "            "
            ]
          },
          "metadata": {}
        }
      ]
    },
    {
      "cell_type": "code",
      "source": [
        "# Create masks\n",
        "land_mask = landcover.neq(0)  # Remove water/no data\n",
        "ag_mask = landcover.eq(12).Or(landcover.eq(14))"
      ],
      "metadata": {
        "colab": {
          "base_uri": "https://localhost:8080/",
          "height": 17
        },
        "id": "m_-R9GTjmvkL",
        "outputId": "e7dc34df-2a41-499b-aa8b-d2bb996996ea"
      },
      "execution_count": null,
      "outputs": [
        {
          "output_type": "display_data",
          "data": {
            "text/plain": [
              "<IPython.core.display.HTML object>"
            ],
            "text/html": [
              "\n",
              "            <style>\n",
              "                .geemap-dark {\n",
              "                    --jp-widgets-color: white;\n",
              "                    --jp-widgets-label-color: white;\n",
              "                    --jp-ui-font-color1: white;\n",
              "                    --jp-layout-color2: #454545;\n",
              "                    background-color: #383838;\n",
              "                }\n",
              "\n",
              "                .geemap-dark .jupyter-button {\n",
              "                    --jp-layout-color3: #383838;\n",
              "                }\n",
              "\n",
              "                .geemap-colab {\n",
              "                    background-color: var(--colab-primary-surface-color, white);\n",
              "                }\n",
              "\n",
              "                .geemap-colab .jupyter-button {\n",
              "                    --jp-layout-color3: var(--colab-primary-surface-color, white);\n",
              "                }\n",
              "            </style>\n",
              "            "
            ]
          },
          "metadata": {}
        }
      ]
    },
    {
      "cell_type": "code",
      "source": [
        "# Load MODIS surface reflectance data for 2017 (this will be our input features)\n",
        "modis = ee.ImageCollection(\"MODIS/061/MOD09GA\") \\\n",
        "          .filterDate('2017-01-01', '2017-12-31') \\\n",
        "          .select(['sur_refl_b01', 'sur_refl_b02', 'sur_refl_b03', 'sur_refl_b04',\n",
        "                   'sur_refl_b05', 'sur_refl_b06', 'sur_refl_b07'])\n",
        "\n",
        "print(f\"Number of MODIS images in 2017: {modis.size().getInfo()}\")\n",
        "print(f\"Intensity image bands: {intensity.bandNames().getInfo()}\")"
      ],
      "metadata": {
        "colab": {
          "base_uri": "https://localhost:8080/",
          "height": 52
        },
        "id": "YTiLVEKGmzL4",
        "outputId": "0b1796a2-378b-457b-9b2f-e7555fbff97b"
      },
      "execution_count": null,
      "outputs": [
        {
          "output_type": "display_data",
          "data": {
            "text/plain": [
              "<IPython.core.display.HTML object>"
            ],
            "text/html": [
              "\n",
              "            <style>\n",
              "                .geemap-dark {\n",
              "                    --jp-widgets-color: white;\n",
              "                    --jp-widgets-label-color: white;\n",
              "                    --jp-ui-font-color1: white;\n",
              "                    --jp-layout-color2: #454545;\n",
              "                    background-color: #383838;\n",
              "                }\n",
              "\n",
              "                .geemap-dark .jupyter-button {\n",
              "                    --jp-layout-color3: #383838;\n",
              "                }\n",
              "\n",
              "                .geemap-colab {\n",
              "                    background-color: var(--colab-primary-surface-color, white);\n",
              "                }\n",
              "\n",
              "                .geemap-colab .jupyter-button {\n",
              "                    --jp-layout-color3: var(--colab-primary-surface-color, white);\n",
              "                }\n",
              "            </style>\n",
              "            "
            ]
          },
          "metadata": {}
        },
        {
          "output_type": "stream",
          "name": "stdout",
          "text": [
            "Number of MODIS images in 2017: 364\n",
            "Intensity image bands: ['b1']\n"
          ]
        }
      ]
    },
    {
      "cell_type": "markdown",
      "source": [
        "## Step 2: Create temporal features & training data"
      ],
      "metadata": {
        "id": "109rM7qfoCdU"
      }
    },
    {
      "cell_type": "code",
      "source": [
        "# Calculate NDVI and other vegetation indices from MODIS\n",
        "def add_indices(image):\n",
        "    ndvi = image.normalizedDifference(['sur_refl_b02', 'sur_refl_b01']).rename('NDVI')\n",
        "    evi = image.expression(\n",
        "        '2.5 * ((NIR - RED) / (NIR + 6 * RED - 7.5 * BLUE + 1))',\n",
        "        {\n",
        "            'NIR': image.select('sur_refl_b02'),\n",
        "            'RED': image.select('sur_refl_b01'),\n",
        "            'BLUE': image.select('sur_refl_b03')\n",
        "        }).rename('EVI')\n",
        "    return image.addBands([ndvi, evi])\n",
        "\n",
        "# Apply indices calculation to all MODIS images\n",
        "modis_with_indices = modis.map(add_indices)\n",
        "\n",
        "# Create temporal features (these capture crop phenology patterns)\n",
        "# Mean, std dev, max, min, and percentiles of NDVI/EVI across the year\n",
        "temporal_features = modis_with_indices.select(['NDVI', 'EVI']).reduce(\n",
        "    ee.Reducer.mean()\n",
        "    .combine(ee.Reducer.stdDev(), sharedInputs=True)\n",
        "    .combine(ee.Reducer.max(), sharedInputs=True)\n",
        "    .combine(ee.Reducer.min(), sharedInputs=True)\n",
        "    .combine(ee.Reducer.percentile([25, 75]), sharedInputs=True)\n",
        ").reproject(crs=intensity.projection())\n",
        "\n",
        "print(f\"Temporal features bands: {temporal_features.bandNames().getInfo()}\")"
      ],
      "metadata": {
        "colab": {
          "base_uri": "https://localhost:8080/",
          "height": 54
        },
        "id": "jUMq92HEoFd5",
        "outputId": "04d60919-f359-45be-b9cd-923ceb419ba1"
      },
      "execution_count": null,
      "outputs": [
        {
          "output_type": "display_data",
          "data": {
            "text/plain": [
              "<IPython.core.display.HTML object>"
            ],
            "text/html": [
              "\n",
              "            <style>\n",
              "                .geemap-dark {\n",
              "                    --jp-widgets-color: white;\n",
              "                    --jp-widgets-label-color: white;\n",
              "                    --jp-ui-font-color1: white;\n",
              "                    --jp-layout-color2: #454545;\n",
              "                    background-color: #383838;\n",
              "                }\n",
              "\n",
              "                .geemap-dark .jupyter-button {\n",
              "                    --jp-layout-color3: #383838;\n",
              "                }\n",
              "\n",
              "                .geemap-colab {\n",
              "                    background-color: var(--colab-primary-surface-color, white);\n",
              "                }\n",
              "\n",
              "                .geemap-colab .jupyter-button {\n",
              "                    --jp-layout-color3: var(--colab-primary-surface-color, white);\n",
              "                }\n",
              "            </style>\n",
              "            "
            ]
          },
          "metadata": {}
        },
        {
          "output_type": "stream",
          "name": "stdout",
          "text": [
            "Temporal features bands: ['NDVI_mean', 'NDVI_stdDev', 'NDVI_max', 'NDVI_min', 'NDVI_p25', 'NDVI_p75', 'EVI_mean', 'EVI_stdDev', 'EVI_max', 'EVI_min', 'EVI_p25', 'EVI_p75']\n"
          ]
        }
      ]
    },
    {
      "cell_type": "code",
      "source": [
        "# # Function to add Day of Year (DOY) for phenology metrics\n",
        "# def add_doy(image):\n",
        "#     doy = ee.Date(image.get('system:time_start')).getRelative('day', 'year')\n",
        "#     return image.addBands(ee.Image.constant(doy).rename('DOY').toInt16())\n",
        "\n",
        "# # Apply to MODIS with indices\n",
        "# modis_with_indices = modis.map(add_indices).map(add_doy)  # DOY is added here\n",
        "\n",
        "# # Now compute slope\n",
        "# def add_ndvi_slope(image):\n",
        "#     # Safe selection\n",
        "#     doy = image.select(['DOY'])\n",
        "#     ndvi = image.select(['NDVI'])\n",
        "#     return image.addBands(ndvi.divide(doy).rename('NDVI_slope'))\n",
        "\n",
        "# modis_with_indices = modis_with_indices.map(add_ndvi_slope)\n",
        "\n",
        "# # Compute seasonal stats\n",
        "# ndvi_features = modis_with_indices.select(['NDVI', 'EVI', 'DOY'])\n",
        "\n",
        "# # NDVI stats (integral, amplitude, timing of max)\n",
        "# ndvi_integral = ndvi_features.select('NDVI').reduce(ee.Reducer.sum()).rename('NDVI_integral')\n",
        "# ndvi_range = ndvi_features.select('NDVI').reduce(ee.Reducer.max()).subtract(\n",
        "#     ndvi_features.select('NDVI').reduce(ee.Reducer.min())\n",
        "# ).rename('NDVI_range')\n",
        "\n",
        "# # Timing of peak NDVI\n",
        "# max_ndvi = ndvi_features.qualityMosaic('NDVI')\n",
        "# ndvi_peak_doy = max_ndvi.select('DOY').rename('NDVI_peak_DOY')\n",
        "\n",
        "# # Same for EVI if desired\n",
        "# evi_integral = ndvi_features.select('EVI').reduce(ee.Reducer.sum()).rename('EVI_integral')\n",
        "# evi_range = ndvi_features.select('EVI').reduce(ee.Reducer.max()).subtract(\n",
        "#     ndvi_features.select('EVI').reduce(ee.Reducer.min())\n",
        "# ).rename('EVI_range')\n",
        "# evi_peak_doy = ndvi_features.qualityMosaic('EVI').select('DOY').rename('EVI_peak_DOY')\n",
        "\n",
        "# # Combine all temporal/phenology features\n",
        "# phenology_features = temporal_features.addBands([\n",
        "#     ndvi_integral, ndvi_range, ndvi_peak_doy,\n",
        "#     evi_integral, evi_range, evi_peak_doy\n",
        "# ])\n",
        "\n",
        "# print(f\"Temporal features bands: {phenology_features.bandNames().getInfo()}\")"
      ],
      "metadata": {
        "colab": {
          "base_uri": "https://localhost:8080/",
          "height": 17
        },
        "id": "0LKwJLwtNfUP",
        "outputId": "065548ca-186b-4790-bbe7-2e4bd559f5a6"
      },
      "execution_count": null,
      "outputs": [
        {
          "output_type": "display_data",
          "data": {
            "text/plain": [
              "<IPython.core.display.HTML object>"
            ],
            "text/html": [
              "\n",
              "            <style>\n",
              "                .geemap-dark {\n",
              "                    --jp-widgets-color: white;\n",
              "                    --jp-widgets-label-color: white;\n",
              "                    --jp-ui-font-color1: white;\n",
              "                    --jp-layout-color2: #454545;\n",
              "                    background-color: #383838;\n",
              "                }\n",
              "\n",
              "                .geemap-dark .jupyter-button {\n",
              "                    --jp-layout-color3: #383838;\n",
              "                }\n",
              "\n",
              "                .geemap-colab {\n",
              "                    background-color: var(--colab-primary-surface-color, white);\n",
              "                }\n",
              "\n",
              "                .geemap-colab .jupyter-button {\n",
              "                    --jp-layout-color3: var(--colab-primary-surface-color, white);\n",
              "                }\n",
              "            </style>\n",
              "            "
            ]
          },
          "metadata": {}
        }
      ]
    },
    {
      "cell_type": "code",
      "source": [
        "# Get the projection of MODIS\n",
        "temporal_features_masked = temporal_features.updateMask(land_mask).updateMask(ag_mask)\n",
        "intensity_masked = intensity.updateMask(land_mask).updateMask(ag_mask)\n",
        "\n",
        "# Combine into one image with labels\n",
        "sample_image = temporal_features_masked.addBands(intensity_masked.rename('label'))"
      ],
      "metadata": {
        "colab": {
          "base_uri": "https://localhost:8080/",
          "height": 17
        },
        "id": "wEyjfXDbLj-4",
        "outputId": "706cb7e4-6acc-4428-92ad-9062d26a6933"
      },
      "execution_count": null,
      "outputs": [
        {
          "output_type": "display_data",
          "data": {
            "text/plain": [
              "<IPython.core.display.HTML object>"
            ],
            "text/html": [
              "\n",
              "            <style>\n",
              "                .geemap-dark {\n",
              "                    --jp-widgets-color: white;\n",
              "                    --jp-widgets-label-color: white;\n",
              "                    --jp-ui-font-color1: white;\n",
              "                    --jp-layout-color2: #454545;\n",
              "                    background-color: #383838;\n",
              "                }\n",
              "\n",
              "                .geemap-dark .jupyter-button {\n",
              "                    --jp-layout-color3: #383838;\n",
              "                }\n",
              "\n",
              "                .geemap-colab {\n",
              "                    background-color: var(--colab-primary-surface-color, white);\n",
              "                }\n",
              "\n",
              "                .geemap-colab .jupyter-button {\n",
              "                    --jp-layout-color3: var(--colab-primary-surface-color, white);\n",
              "                }\n",
              "            </style>\n",
              "            "
            ]
          },
          "metadata": {}
        }
      ]
    },
    {
      "cell_type": "code",
      "source": [
        "print(\"Temporal features projection:\", temporal_features_masked.projection().getInfo())\n",
        "print(\"Intensity projection:\", intensity_masked.projection().getInfo())\n",
        "print(\"Temporal scale (meters):\", temporal_features_masked.projection().nominalScale().getInfo())\n",
        "print(\"Intensity scale (meters):\", intensity_masked.projection().nominalScale().getInfo())"
      ],
      "metadata": {
        "colab": {
          "base_uri": "https://localhost:8080/",
          "height": 106
        },
        "id": "p5sgFVwxXvBd",
        "outputId": "e91b5a3c-5e0d-47cb-9298-fe4fc3a2777f"
      },
      "execution_count": null,
      "outputs": [
        {
          "output_type": "display_data",
          "data": {
            "text/plain": [
              "<IPython.core.display.HTML object>"
            ],
            "text/html": [
              "\n",
              "            <style>\n",
              "                .geemap-dark {\n",
              "                    --jp-widgets-color: white;\n",
              "                    --jp-widgets-label-color: white;\n",
              "                    --jp-ui-font-color1: white;\n",
              "                    --jp-layout-color2: #454545;\n",
              "                    background-color: #383838;\n",
              "                }\n",
              "\n",
              "                .geemap-dark .jupyter-button {\n",
              "                    --jp-layout-color3: #383838;\n",
              "                }\n",
              "\n",
              "                .geemap-colab {\n",
              "                    background-color: var(--colab-primary-surface-color, white);\n",
              "                }\n",
              "\n",
              "                .geemap-colab .jupyter-button {\n",
              "                    --jp-layout-color3: var(--colab-primary-surface-color, white);\n",
              "                }\n",
              "            </style>\n",
              "            "
            ]
          },
          "metadata": {}
        },
        {
          "output_type": "stream",
          "name": "stdout",
          "text": [
            "Temporal features projection: {'type': 'Projection', 'crs': 'EPSG:4326', 'transform': [0.004311913363773704, 0, -80.00000661643446, 0, -0.0043119133637737036, 10.000405068932153]}\n",
            "Intensity projection: {'type': 'Projection', 'crs': 'EPSG:4326', 'transform': [0.004311913363773704, 0, -80.00000661643446, 0, -0.0043119133637737036, 10.000405068932153]}\n",
            "Temporal scale (meters): 480.0000000000001\n",
            "Intensity scale (meters): 480.0000000000001\n"
          ]
        }
      ]
    },
    {
      "cell_type": "code",
      "source": [
        "# Make a small test region: e.g., a bounding box in your area of interest\n",
        "# Argentina\n",
        "# test_region = ee.Geometry.Rectangle([-73.6, -55.0, -53.6, -21.8])  # [minLon, minLat, maxLon, maxLat]\n",
        "\n",
        "# Medium size\n",
        "test_region = ee.Geometry.Rectangle([-65, -40, -52, -25])  # [minLon, minLat, maxLon, maxLat]\n",
        "# test_region = ee.Geometry.Rectangle([-61, -36, -58, -32])  # [minLon, minLat, maxLon, maxLat]\n",
        "\n",
        "# Very small\n",
        "# test_region = ee.Geometry.Rectangle([-63.0, -35.0, -62.5, -34.5])  # [minLon, minLat, maxLon, maxLat]\n",
        "# test_region = ee.Geometry.Rectangle([-63, -35, -60, -33])  # [minLon, minLat, maxLon, maxLat]\n",
        "\n",
        "# More efficient stratified sampling\n",
        "def create_training_data(region, points_per_class=10000):\n",
        "    # Sample all classes at once\n",
        "    samples = sample_image.stratifiedSample(\n",
        "        numPoints=points_per_class,\n",
        "        classBand='label',\n",
        "        region=region,\n",
        "        scale=480,\n",
        "        seed=42,\n",
        "        dropNulls=True,\n",
        "        tileScale=4,\n",
        "        geometries=True\n",
        "    )\n",
        "    return samples\n",
        "\n",
        "training_points = create_training_data(test_region, 10000)\n",
        "# print(training_points.size().getInfo()) # Takes a while"
      ],
      "metadata": {
        "colab": {
          "base_uri": "https://localhost:8080/",
          "height": 17
        },
        "id": "hxUHWUodhwTY",
        "outputId": "7fd4f7f3-f458-4c93-e936-1843980f46b0"
      },
      "execution_count": null,
      "outputs": [
        {
          "output_type": "display_data",
          "data": {
            "text/plain": [
              "<IPython.core.display.HTML object>"
            ],
            "text/html": [
              "\n",
              "            <style>\n",
              "                .geemap-dark {\n",
              "                    --jp-widgets-color: white;\n",
              "                    --jp-widgets-label-color: white;\n",
              "                    --jp-ui-font-color1: white;\n",
              "                    --jp-layout-color2: #454545;\n",
              "                    background-color: #383838;\n",
              "                }\n",
              "\n",
              "                .geemap-dark .jupyter-button {\n",
              "                    --jp-layout-color3: #383838;\n",
              "                }\n",
              "\n",
              "                .geemap-colab {\n",
              "                    background-color: var(--colab-primary-surface-color, white);\n",
              "                }\n",
              "\n",
              "                .geemap-colab .jupyter-button {\n",
              "                    --jp-layout-color3: var(--colab-primary-surface-color, white);\n",
              "                }\n",
              "            </style>\n",
              "            "
            ]
          },
          "metadata": {}
        }
      ]
    },
    {
      "cell_type": "code",
      "source": [
        "def stratified_split_server(fc, label_col='label', train_frac=0.7, seed=42):\n",
        "    classes = fc.distinct(label_col)\n",
        "\n",
        "    def split_class(c):\n",
        "        c_value = ee.Feature(c).get(label_col)\n",
        "        class_points = fc.filter(ee.Filter.eq(label_col, c_value))\n",
        "        class_points = class_points.randomColumn(seed=seed)\n",
        "        train_points = class_points.filter(ee.Filter.lt('random', train_frac))\n",
        "        val_points = class_points.filter(ee.Filter.gte('random', train_frac))\n",
        "        return ee.Dictionary({'train': train_points, 'val': val_points})\n",
        "\n",
        "    # Map over classes\n",
        "    class_list = classes.toList(classes.size())\n",
        "    splits = class_list.map(split_class)\n",
        "\n",
        "    # Merge all splits\n",
        "    training_fc = ee.FeatureCollection(\n",
        "        splits.map(lambda d: ee.Dictionary(d).get('train'))\n",
        "    ).flatten()\n",
        "    validation_fc = ee.FeatureCollection(\n",
        "        splits.map(lambda d: ee.Dictionary(d).get('val'))\n",
        "    ).flatten()\n",
        "\n",
        "    return training_fc, validation_fc\n",
        "\n",
        "# Apply the stratified split\n",
        "training_data, validation_data = stratified_split_server(training_points, label_col='label', train_frac=0.7, seed=42)"
      ],
      "metadata": {
        "id": "P9xUYo7po5Xq",
        "colab": {
          "base_uri": "https://localhost:8080/",
          "height": 17
        },
        "outputId": "75cf052f-45b5-4ece-9d5d-b796b5a55936"
      },
      "execution_count": null,
      "outputs": [
        {
          "output_type": "display_data",
          "data": {
            "text/plain": [
              "<IPython.core.display.HTML object>"
            ],
            "text/html": [
              "\n",
              "            <style>\n",
              "                .geemap-dark {\n",
              "                    --jp-widgets-color: white;\n",
              "                    --jp-widgets-label-color: white;\n",
              "                    --jp-ui-font-color1: white;\n",
              "                    --jp-layout-color2: #454545;\n",
              "                    background-color: #383838;\n",
              "                }\n",
              "\n",
              "                .geemap-dark .jupyter-button {\n",
              "                    --jp-layout-color3: #383838;\n",
              "                }\n",
              "\n",
              "                .geemap-colab {\n",
              "                    background-color: var(--colab-primary-surface-color, white);\n",
              "                }\n",
              "\n",
              "                .geemap-colab .jupyter-button {\n",
              "                    --jp-layout-color3: var(--colab-primary-surface-color, white);\n",
              "                }\n",
              "            </style>\n",
              "            "
            ]
          },
          "metadata": {}
        }
      ]
    },
    {
      "cell_type": "code",
      "source": [
        "# # # Plot this to ensure it's working\n",
        "# Map = geemap.Map()\n",
        "# Map.centerObject(test_region, 7)\n",
        "\n",
        "# vis_params = {\n",
        "#     'min': 0,\n",
        "#     'max': 1,\n",
        "#     'palette': ['lightgray', 'yellow', 'orange', 'red']  # Non-crop to high intensity\n",
        "# }\n",
        "# # Add the class labels\n",
        "# Map.addLayer(sample_image.select('label'), vis_params, \"Class labels\")\n",
        "\n",
        "# Map.addLayer(temporal_features_masked.select('NDVI_mean'), vis_params, \"NDVI\")\n",
        "\n",
        "# vis_params = {\n",
        "#     'min': -1,\n",
        "#     'max': 3,\n",
        "#     'palette': ['lightgray', 'yellow', 'orange', 'red']  # Non-crop to high intensity\n",
        "# }\n",
        "# # Add the class labels\n",
        "# Map.addLayer(sample_image.select('label'), vis_params, \"Class labels\")\n",
        "\n",
        "# # Add the sampled training points\n",
        "# # Make sure training points are styled for display\n",
        "# validation_data_styled = validation_data.style(\n",
        "#     color='black',\n",
        "#     width=2,\n",
        "#     fillColor='00000000'  # transparent fill\n",
        "# )\n",
        "\n",
        "# training_data_styled = training_data.style(\n",
        "#     color='blue',\n",
        "#     width=2,\n",
        "#     fillColor='00000000'  # transparent fill\n",
        "# )\n",
        "\n",
        "# print(training_points.limit(5).getInfo())\n",
        "\n",
        "# Map.addLayer(validation_data_styled, {}, \"validation points\")\n",
        "# Map.addLayer(training_data_styled, {}, \"training points\")\n",
        "\n",
        "# Map.addLayer(test_region)\n",
        "# Map\n"
      ],
      "metadata": {
        "id": "A-cwkp-KbGod",
        "colab": {
          "base_uri": "https://localhost:8080/",
          "height": 17
        },
        "outputId": "0f3b1c0b-ff66-42f9-e409-b235c8fe2766"
      },
      "execution_count": null,
      "outputs": [
        {
          "output_type": "display_data",
          "data": {
            "text/plain": [
              "<IPython.core.display.HTML object>"
            ],
            "text/html": [
              "\n",
              "            <style>\n",
              "                .geemap-dark {\n",
              "                    --jp-widgets-color: white;\n",
              "                    --jp-widgets-label-color: white;\n",
              "                    --jp-ui-font-color1: white;\n",
              "                    --jp-layout-color2: #454545;\n",
              "                    background-color: #383838;\n",
              "                }\n",
              "\n",
              "                .geemap-dark .jupyter-button {\n",
              "                    --jp-layout-color3: #383838;\n",
              "                }\n",
              "\n",
              "                .geemap-colab {\n",
              "                    background-color: var(--colab-primary-surface-color, white);\n",
              "                }\n",
              "\n",
              "                .geemap-colab .jupyter-button {\n",
              "                    --jp-layout-color3: var(--colab-primary-surface-color, white);\n",
              "                }\n",
              "            </style>\n",
              "            "
            ]
          },
          "metadata": {}
        }
      ]
    },
    {
      "cell_type": "code",
      "source": [
        "predictor_bands = temporal_features.bandNames()\n",
        "# Sample feature values at the training points\n",
        "training_samples = temporal_features.sampleRegions(\n",
        "    collection=training_data,\n",
        "    properties=['label'],  # target variable\n",
        "    scale=480,\n",
        "    geometries=True\n",
        ")\n",
        "\n",
        "# Sample feature values at the validation points\n",
        "validation_samples = temporal_features.sampleRegions(\n",
        "    collection=validation_data,\n",
        "    properties=['label'],\n",
        "    scale=480,\n",
        "    geometries=True\n",
        ")"
      ],
      "metadata": {
        "id": "LyDN6OkBb05D",
        "colab": {
          "base_uri": "https://localhost:8080/",
          "height": 17
        },
        "outputId": "eebd67ff-3504-4b12-8244-d177fde913be"
      },
      "execution_count": null,
      "outputs": [
        {
          "output_type": "display_data",
          "data": {
            "text/plain": [
              "<IPython.core.display.HTML object>"
            ],
            "text/html": [
              "\n",
              "            <style>\n",
              "                .geemap-dark {\n",
              "                    --jp-widgets-color: white;\n",
              "                    --jp-widgets-label-color: white;\n",
              "                    --jp-ui-font-color1: white;\n",
              "                    --jp-layout-color2: #454545;\n",
              "                    background-color: #383838;\n",
              "                }\n",
              "\n",
              "                .geemap-dark .jupyter-button {\n",
              "                    --jp-layout-color3: #383838;\n",
              "                }\n",
              "\n",
              "                .geemap-colab {\n",
              "                    background-color: var(--colab-primary-surface-color, white);\n",
              "                }\n",
              "\n",
              "                .geemap-colab .jupyter-button {\n",
              "                    --jp-layout-color3: var(--colab-primary-surface-color, white);\n",
              "                }\n",
              "            </style>\n",
              "            "
            ]
          },
          "metadata": {}
        }
      ]
    },
    {
      "cell_type": "markdown",
      "source": [
        "## Training the RF classifier"
      ],
      "metadata": {
        "id": "xEz-Z5QQcH5I"
      }
    },
    {
      "cell_type": "code",
      "source": [
        "n_trees = 100\n",
        "# Create the classifier\n",
        "classifier = ee.Classifier.smileRandomForest(\n",
        "    numberOfTrees=n_trees,\n",
        "    seed=42\n",
        ").train(\n",
        "    features=training_samples,\n",
        "    classProperty='label',\n",
        "    inputProperties=predictor_bands\n",
        ")\n",
        "# Classify\n",
        "classified_image = temporal_features_masked.classify(classifier).clip(test_region).select('classification').updateMask(land_mask).updateMask(ag_mask)\n",
        "\n",
        "# vis_params = {\n",
        "#     'min': -1,\n",
        "#     'max': 3,\n",
        "#     'palette': ['lightgray', 'yellow', 'orange', 'red']  # Non-crop to high intensity\n",
        "# }\n",
        "# Map.addLayer(classified_image, vis_params)\n",
        "# Map"
      ],
      "metadata": {
        "id": "StploYNFcKRf",
        "colab": {
          "base_uri": "https://localhost:8080/",
          "height": 17
        },
        "outputId": "0fccfac9-bc56-4052-91e4-81f42345d38a"
      },
      "execution_count": null,
      "outputs": [
        {
          "output_type": "display_data",
          "data": {
            "text/plain": [
              "<IPython.core.display.HTML object>"
            ],
            "text/html": [
              "\n",
              "            <style>\n",
              "                .geemap-dark {\n",
              "                    --jp-widgets-color: white;\n",
              "                    --jp-widgets-label-color: white;\n",
              "                    --jp-ui-font-color1: white;\n",
              "                    --jp-layout-color2: #454545;\n",
              "                    background-color: #383838;\n",
              "                }\n",
              "\n",
              "                .geemap-dark .jupyter-button {\n",
              "                    --jp-layout-color3: #383838;\n",
              "                }\n",
              "\n",
              "                .geemap-colab {\n",
              "                    background-color: var(--colab-primary-surface-color, white);\n",
              "                }\n",
              "\n",
              "                .geemap-colab .jupyter-button {\n",
              "                    --jp-layout-color3: var(--colab-primary-surface-color, white);\n",
              "                }\n",
              "            </style>\n",
              "            "
            ]
          },
          "metadata": {}
        }
      ]
    },
    {
      "cell_type": "code",
      "source": [
        "# classified_for_export = classified_image.unmask(-9999)\n",
        "\n",
        "# task = ee.batch.Export.image.toDrive(\n",
        "#     image=classified_for_export,\n",
        "#     description='RF_classification',\n",
        "#     folder='EarthEngine',\n",
        "#     region=test_region,\n",
        "#     fileNamePrefix=f'RF_classification_ARG_tile_{n_trees}',\n",
        "#     scale=480,\n",
        "#     crs='EPSG:4326',\n",
        "#     maxPixels=1e13,\n",
        "#     formatOptions={'cloudOptimized': True},   # optional\n",
        "# )\n",
        "\n",
        "task = ee.batch.Export.image.toAsset(\n",
        "    image=classified_image,\n",
        "    description='RF_classification_ARG_asset',\n",
        "    assetId='projects/ee-sophieruehr/assets/RF_classification_ARG',\n",
        "    region=test_region,\n",
        "    scale=480,\n",
        "    crs='EPSG:4326',\n",
        "    maxPixels=1e13\n",
        ")\n",
        "task.start()\n",
        "\n"
      ],
      "metadata": {
        "id": "I-h-K9fge2a2",
        "colab": {
          "base_uri": "https://localhost:8080/",
          "height": 17
        },
        "outputId": "63881317-3725-463a-c35f-98889e4f2975"
      },
      "execution_count": null,
      "outputs": [
        {
          "output_type": "display_data",
          "data": {
            "text/plain": [
              "<IPython.core.display.HTML object>"
            ],
            "text/html": [
              "\n",
              "            <style>\n",
              "                .geemap-dark {\n",
              "                    --jp-widgets-color: white;\n",
              "                    --jp-widgets-label-color: white;\n",
              "                    --jp-ui-font-color1: white;\n",
              "                    --jp-layout-color2: #454545;\n",
              "                    background-color: #383838;\n",
              "                }\n",
              "\n",
              "                .geemap-dark .jupyter-button {\n",
              "                    --jp-layout-color3: #383838;\n",
              "                }\n",
              "\n",
              "                .geemap-colab {\n",
              "                    background-color: var(--colab-primary-surface-color, white);\n",
              "                }\n",
              "\n",
              "                .geemap-colab .jupyter-button {\n",
              "                    --jp-layout-color3: var(--colab-primary-surface-color, white);\n",
              "                }\n",
              "            </style>\n",
              "            "
            ]
          },
          "metadata": {}
        }
      ]
    },
    {
      "cell_type": "code",
      "source": [
        "# classified_image_asset = ee.Image(\"projects/ee-sophieruehr/assets/RF_classification_ARG\")\n",
        "\n",
        "# Map = geemap.Map()\n",
        "# Map.centerObject(test_region, 7)\n",
        "\n",
        "# vis_params = {\n",
        "#     'min': 0,\n",
        "#     'max': 2,\n",
        "#     'palette': ['black', 'lightgray','red']  # Non-crop to high intensity\n",
        "# }\n",
        "# # Add the class labels\n",
        "# Map.addLayer(classified_image_asset, vis_params, \"Class labels\")\n",
        "# Map"
      ],
      "metadata": {
        "colab": {
          "base_uri": "https://localhost:8080/",
          "height": 478
        },
        "id": "EJMf_K4vanbE",
        "outputId": "6882c3f5-1b7a-409c-d446-50271ef8135f"
      },
      "execution_count": null,
      "outputs": [
        {
          "output_type": "display_data",
          "data": {
            "text/plain": [
              "<IPython.core.display.HTML object>"
            ],
            "text/html": [
              "\n",
              "            <style>\n",
              "                .geemap-dark {\n",
              "                    --jp-widgets-color: white;\n",
              "                    --jp-widgets-label-color: white;\n",
              "                    --jp-ui-font-color1: white;\n",
              "                    --jp-layout-color2: #454545;\n",
              "                    background-color: #383838;\n",
              "                }\n",
              "\n",
              "                .geemap-dark .jupyter-button {\n",
              "                    --jp-layout-color3: #383838;\n",
              "                }\n",
              "\n",
              "                .geemap-colab {\n",
              "                    background-color: var(--colab-primary-surface-color, white);\n",
              "                }\n",
              "\n",
              "                .geemap-colab .jupyter-button {\n",
              "                    --jp-layout-color3: var(--colab-primary-surface-color, white);\n",
              "                }\n",
              "            </style>\n",
              "            "
            ]
          },
          "metadata": {}
        },
        {
          "output_type": "error",
          "ename": "EEException",
          "evalue": "Image.load: Image asset 'projects/ee-sophieruehr/assets/RF_classification_ARG' not found (does not exist or caller does not have access).",
          "traceback": [
            "\u001b[0;31m---------------------------------------------------------------------------\u001b[0m",
            "\u001b[0;31mHttpError\u001b[0m                                 Traceback (most recent call last)",
            "\u001b[0;32m/usr/local/lib/python3.12/dist-packages/ee/data.py\u001b[0m in \u001b[0;36m_execute_cloud_call\u001b[0;34m(call, num_retries)\u001b[0m\n\u001b[1;32m    407\u001b[0m   \u001b[0;32mtry\u001b[0m\u001b[0;34m:\u001b[0m\u001b[0;34m\u001b[0m\u001b[0;34m\u001b[0m\u001b[0m\n\u001b[0;32m--> 408\u001b[0;31m     \u001b[0;32mreturn\u001b[0m \u001b[0mcall\u001b[0m\u001b[0;34m.\u001b[0m\u001b[0mexecute\u001b[0m\u001b[0;34m(\u001b[0m\u001b[0mnum_retries\u001b[0m\u001b[0;34m=\u001b[0m\u001b[0mnum_retries\u001b[0m\u001b[0;34m)\u001b[0m\u001b[0;34m\u001b[0m\u001b[0;34m\u001b[0m\u001b[0m\n\u001b[0m\u001b[1;32m    409\u001b[0m   \u001b[0;32mexcept\u001b[0m \u001b[0mgoogleapiclient\u001b[0m\u001b[0;34m.\u001b[0m\u001b[0merrors\u001b[0m\u001b[0;34m.\u001b[0m\u001b[0mHttpError\u001b[0m \u001b[0;32mas\u001b[0m \u001b[0me\u001b[0m\u001b[0;34m:\u001b[0m\u001b[0;34m\u001b[0m\u001b[0;34m\u001b[0m\u001b[0m\n",
            "\u001b[0;32m/usr/local/lib/python3.12/dist-packages/googleapiclient/_helpers.py\u001b[0m in \u001b[0;36mpositional_wrapper\u001b[0;34m(*args, **kwargs)\u001b[0m\n\u001b[1;32m    129\u001b[0m                     \u001b[0mlogger\u001b[0m\u001b[0;34m.\u001b[0m\u001b[0mwarning\u001b[0m\u001b[0;34m(\u001b[0m\u001b[0mmessage\u001b[0m\u001b[0;34m)\u001b[0m\u001b[0;34m\u001b[0m\u001b[0;34m\u001b[0m\u001b[0m\n\u001b[0;32m--> 130\u001b[0;31m             \u001b[0;32mreturn\u001b[0m \u001b[0mwrapped\u001b[0m\u001b[0;34m(\u001b[0m\u001b[0;34m*\u001b[0m\u001b[0margs\u001b[0m\u001b[0;34m,\u001b[0m \u001b[0;34m**\u001b[0m\u001b[0mkwargs\u001b[0m\u001b[0;34m)\u001b[0m\u001b[0;34m\u001b[0m\u001b[0;34m\u001b[0m\u001b[0m\n\u001b[0m\u001b[1;32m    131\u001b[0m \u001b[0;34m\u001b[0m\u001b[0m\n",
            "\u001b[0;32m/usr/local/lib/python3.12/dist-packages/googleapiclient/http.py\u001b[0m in \u001b[0;36mexecute\u001b[0;34m(self, http, num_retries)\u001b[0m\n\u001b[1;32m    937\u001b[0m         \u001b[0;32mif\u001b[0m \u001b[0mresp\u001b[0m\u001b[0;34m.\u001b[0m\u001b[0mstatus\u001b[0m \u001b[0;34m>=\u001b[0m \u001b[0;36m300\u001b[0m\u001b[0;34m:\u001b[0m\u001b[0;34m\u001b[0m\u001b[0;34m\u001b[0m\u001b[0m\n\u001b[0;32m--> 938\u001b[0;31m             \u001b[0;32mraise\u001b[0m \u001b[0mHttpError\u001b[0m\u001b[0;34m(\u001b[0m\u001b[0mresp\u001b[0m\u001b[0;34m,\u001b[0m \u001b[0mcontent\u001b[0m\u001b[0;34m,\u001b[0m \u001b[0muri\u001b[0m\u001b[0;34m=\u001b[0m\u001b[0mself\u001b[0m\u001b[0;34m.\u001b[0m\u001b[0muri\u001b[0m\u001b[0;34m)\u001b[0m\u001b[0;34m\u001b[0m\u001b[0;34m\u001b[0m\u001b[0m\n\u001b[0m\u001b[1;32m    939\u001b[0m         \u001b[0;32mreturn\u001b[0m \u001b[0mself\u001b[0m\u001b[0;34m.\u001b[0m\u001b[0mpostproc\u001b[0m\u001b[0;34m(\u001b[0m\u001b[0mresp\u001b[0m\u001b[0;34m,\u001b[0m \u001b[0mcontent\u001b[0m\u001b[0;34m)\u001b[0m\u001b[0;34m\u001b[0m\u001b[0;34m\u001b[0m\u001b[0m\n",
            "\u001b[0;31mHttpError\u001b[0m: <HttpError 400 when requesting https://earthengine.googleapis.com/v1/projects/ee-sophieruehr/maps?fields=name&alt=json returned \"Image.load: Image asset 'projects/ee-sophieruehr/assets/RF_classification_ARG' not found (does not exist or caller does not have access).\". Details: \"Image.load: Image asset 'projects/ee-sophieruehr/assets/RF_classification_ARG' not found (does not exist or caller does not have access).\">",
            "\nDuring handling of the above exception, another exception occurred:\n",
            "\u001b[0;31mEEException\u001b[0m                               Traceback (most recent call last)",
            "\u001b[0;32m/tmp/ipython-input-3253165521.py\u001b[0m in \u001b[0;36m<cell line: 0>\u001b[0;34m()\u001b[0m\n\u001b[1;32m     10\u001b[0m }\n\u001b[1;32m     11\u001b[0m \u001b[0;31m# Add the class labels\u001b[0m\u001b[0;34m\u001b[0m\u001b[0;34m\u001b[0m\u001b[0m\n\u001b[0;32m---> 12\u001b[0;31m \u001b[0mMap\u001b[0m\u001b[0;34m.\u001b[0m\u001b[0maddLayer\u001b[0m\u001b[0;34m(\u001b[0m\u001b[0mclassified_image_asset\u001b[0m\u001b[0;34m,\u001b[0m \u001b[0mvis_params\u001b[0m\u001b[0;34m,\u001b[0m \u001b[0;34m\"Class labels\"\u001b[0m\u001b[0;34m)\u001b[0m\u001b[0;34m\u001b[0m\u001b[0;34m\u001b[0m\u001b[0m\n\u001b[0m\u001b[1;32m     13\u001b[0m \u001b[0mMap\u001b[0m\u001b[0;34m\u001b[0m\u001b[0;34m\u001b[0m\u001b[0m\n",
            "\u001b[0;32m/usr/local/lib/python3.12/dist-packages/geemap/geemap.py\u001b[0m in \u001b[0;36madd_ee_layer\u001b[0;34m(self, ee_object, vis_params, name, shown, opacity)\u001b[0m\n\u001b[1;32m    442\u001b[0m                     )\n\u001b[1;32m    443\u001b[0m \u001b[0;34m\u001b[0m\u001b[0m\n\u001b[0;32m--> 444\u001b[0;31m         \u001b[0msuper\u001b[0m\u001b[0;34m(\u001b[0m\u001b[0;34m)\u001b[0m\u001b[0;34m.\u001b[0m\u001b[0madd_layer\u001b[0m\u001b[0;34m(\u001b[0m\u001b[0mee_object\u001b[0m\u001b[0;34m,\u001b[0m \u001b[0mvis_params\u001b[0m\u001b[0;34m,\u001b[0m \u001b[0mname\u001b[0m\u001b[0;34m,\u001b[0m \u001b[0mshown\u001b[0m\u001b[0;34m,\u001b[0m \u001b[0mopacity\u001b[0m\u001b[0;34m)\u001b[0m\u001b[0;34m\u001b[0m\u001b[0;34m\u001b[0m\u001b[0m\n\u001b[0m\u001b[1;32m    445\u001b[0m \u001b[0;34m\u001b[0m\u001b[0m\n\u001b[1;32m    446\u001b[0m         \u001b[0;32mif\u001b[0m \u001b[0misinstance\u001b[0m\u001b[0;34m(\u001b[0m\u001b[0mee_object\u001b[0m\u001b[0;34m,\u001b[0m \u001b[0;34m(\u001b[0m\u001b[0mee\u001b[0m\u001b[0;34m.\u001b[0m\u001b[0mImage\u001b[0m\u001b[0;34m,\u001b[0m \u001b[0mee\u001b[0m\u001b[0;34m.\u001b[0m\u001b[0mImageCollection\u001b[0m\u001b[0;34m)\u001b[0m\u001b[0;34m)\u001b[0m\u001b[0;34m:\u001b[0m\u001b[0;34m\u001b[0m\u001b[0;34m\u001b[0m\u001b[0m\n",
            "\u001b[0;32m/usr/local/lib/python3.12/dist-packages/geemap/core.py\u001b[0m in \u001b[0;36madd_layer\u001b[0;34m(self, ee_object, vis_params, name, shown, opacity)\u001b[0m\n\u001b[1;32m   1136\u001b[0m         \u001b[0;32mif\u001b[0m \u001b[0misinstance\u001b[0m\u001b[0;34m(\u001b[0m\u001b[0mee_object\u001b[0m\u001b[0;34m,\u001b[0m \u001b[0mee\u001b[0m\u001b[0;34m.\u001b[0m\u001b[0mImageCollection\u001b[0m\u001b[0;34m)\u001b[0m\u001b[0;34m:\u001b[0m\u001b[0;34m\u001b[0m\u001b[0;34m\u001b[0m\u001b[0m\n\u001b[1;32m   1137\u001b[0m             \u001b[0mee_object\u001b[0m \u001b[0;34m=\u001b[0m \u001b[0mee_object\u001b[0m\u001b[0;34m.\u001b[0m\u001b[0mmosaic\u001b[0m\u001b[0;34m(\u001b[0m\u001b[0;34m)\u001b[0m\u001b[0;34m\u001b[0m\u001b[0;34m\u001b[0m\u001b[0m\n\u001b[0;32m-> 1138\u001b[0;31m         tile_layer = ee_tile_layers.EELeafletTileLayer(\n\u001b[0m\u001b[1;32m   1139\u001b[0m             \u001b[0mee_object\u001b[0m\u001b[0;34m,\u001b[0m \u001b[0mvis_params\u001b[0m\u001b[0;34m,\u001b[0m \u001b[0mname\u001b[0m\u001b[0;34m,\u001b[0m \u001b[0mshown\u001b[0m\u001b[0;34m,\u001b[0m \u001b[0mopacity\u001b[0m\u001b[0;34m\u001b[0m\u001b[0;34m\u001b[0m\u001b[0m\n\u001b[1;32m   1140\u001b[0m         )\n",
            "\u001b[0;32m/usr/local/lib/python3.12/dist-packages/geemap/ee_tile_layers.py\u001b[0m in \u001b[0;36m__init__\u001b[0;34m(self, ee_object, vis_params, name, shown, opacity, **kwargs)\u001b[0m\n\u001b[1;32m    204\u001b[0m         \"\"\"\n\u001b[1;32m    205\u001b[0m         \u001b[0mself\u001b[0m\u001b[0;34m.\u001b[0m\u001b[0m_ee_object\u001b[0m \u001b[0;34m=\u001b[0m \u001b[0mee_object\u001b[0m\u001b[0;34m\u001b[0m\u001b[0;34m\u001b[0m\u001b[0m\n\u001b[0;32m--> 206\u001b[0;31m         self.url_format = _get_tile_url_format(\n\u001b[0m\u001b[1;32m    207\u001b[0m             \u001b[0mee_object\u001b[0m\u001b[0;34m,\u001b[0m \u001b[0m_validate_vis_params\u001b[0m\u001b[0;34m(\u001b[0m\u001b[0mvis_params\u001b[0m\u001b[0;34m)\u001b[0m\u001b[0;34m\u001b[0m\u001b[0;34m\u001b[0m\u001b[0m\n\u001b[1;32m    208\u001b[0m         )\n",
            "\u001b[0;32m/usr/local/lib/python3.12/dist-packages/geemap/ee_tile_layers.py\u001b[0m in \u001b[0;36m_get_tile_url_format\u001b[0;34m(ee_object, vis_params)\u001b[0m\n\u001b[1;32m     34\u001b[0m     \"\"\"\n\u001b[1;32m     35\u001b[0m     \u001b[0mimage\u001b[0m \u001b[0;34m=\u001b[0m \u001b[0m_ee_object_to_image\u001b[0m\u001b[0;34m(\u001b[0m\u001b[0mee_object\u001b[0m\u001b[0;34m,\u001b[0m \u001b[0mvis_params\u001b[0m\u001b[0;34m)\u001b[0m\u001b[0;34m\u001b[0m\u001b[0;34m\u001b[0m\u001b[0m\n\u001b[0;32m---> 36\u001b[0;31m     \u001b[0mmap_id_dict\u001b[0m \u001b[0;34m=\u001b[0m \u001b[0mee\u001b[0m\u001b[0;34m.\u001b[0m\u001b[0mImage\u001b[0m\u001b[0;34m(\u001b[0m\u001b[0mimage\u001b[0m\u001b[0;34m)\u001b[0m\u001b[0;34m.\u001b[0m\u001b[0mgetMapId\u001b[0m\u001b[0;34m(\u001b[0m\u001b[0mvis_params\u001b[0m\u001b[0;34m)\u001b[0m\u001b[0;34m\u001b[0m\u001b[0;34m\u001b[0m\u001b[0m\n\u001b[0m\u001b[1;32m     37\u001b[0m     \u001b[0;32mreturn\u001b[0m \u001b[0mmap_id_dict\u001b[0m\u001b[0;34m[\u001b[0m\u001b[0;34m\"tile_fetcher\"\u001b[0m\u001b[0;34m]\u001b[0m\u001b[0;34m.\u001b[0m\u001b[0murl_format\u001b[0m\u001b[0;34m\u001b[0m\u001b[0;34m\u001b[0m\u001b[0m\n\u001b[1;32m     38\u001b[0m \u001b[0;34m\u001b[0m\u001b[0m\n",
            "\u001b[0;32m/usr/local/lib/python3.12/dist-packages/ee/image.py\u001b[0m in \u001b[0;36mgetMapId\u001b[0;34m(self, vis_params)\u001b[0m\n\u001b[1;32m    154\u001b[0m     \u001b[0mvis_image\u001b[0m\u001b[0;34m,\u001b[0m \u001b[0mrequest\u001b[0m \u001b[0;34m=\u001b[0m \u001b[0mself\u001b[0m\u001b[0;34m.\u001b[0m\u001b[0m_apply_visualization\u001b[0m\u001b[0;34m(\u001b[0m\u001b[0mvis_params\u001b[0m\u001b[0;34m)\u001b[0m\u001b[0;34m\u001b[0m\u001b[0;34m\u001b[0m\u001b[0m\n\u001b[1;32m    155\u001b[0m     \u001b[0mrequest\u001b[0m\u001b[0;34m[\u001b[0m\u001b[0;34m'image'\u001b[0m\u001b[0;34m]\u001b[0m \u001b[0;34m=\u001b[0m \u001b[0mvis_image\u001b[0m\u001b[0;34m\u001b[0m\u001b[0;34m\u001b[0m\u001b[0m\n\u001b[0;32m--> 156\u001b[0;31m     \u001b[0mresponse\u001b[0m \u001b[0;34m=\u001b[0m \u001b[0mdata\u001b[0m\u001b[0;34m.\u001b[0m\u001b[0mgetMapId\u001b[0m\u001b[0;34m(\u001b[0m\u001b[0mrequest\u001b[0m\u001b[0;34m)\u001b[0m\u001b[0;34m\u001b[0m\u001b[0;34m\u001b[0m\u001b[0m\n\u001b[0m\u001b[1;32m    157\u001b[0m     \u001b[0mresponse\u001b[0m\u001b[0;34m[\u001b[0m\u001b[0;34m'image'\u001b[0m\u001b[0;34m]\u001b[0m \u001b[0;34m=\u001b[0m \u001b[0mself\u001b[0m\u001b[0;34m\u001b[0m\u001b[0;34m\u001b[0m\u001b[0m\n\u001b[1;32m    158\u001b[0m     \u001b[0;32mreturn\u001b[0m \u001b[0mresponse\u001b[0m\u001b[0;34m\u001b[0m\u001b[0;34m\u001b[0m\u001b[0m\n",
            "\u001b[0;32m/usr/local/lib/python3.12/dist-packages/ee/data.py\u001b[0m in \u001b[0;36mgetMapId\u001b[0;34m(params)\u001b[0m\n\u001b[1;32m    748\u001b[0m   }\n\u001b[1;32m    749\u001b[0m   \u001b[0m_maybe_populate_workload_tag\u001b[0m\u001b[0;34m(\u001b[0m\u001b[0mqueryParams\u001b[0m\u001b[0;34m)\u001b[0m\u001b[0;34m\u001b[0m\u001b[0;34m\u001b[0m\u001b[0m\n\u001b[0;32m--> 750\u001b[0;31m   result = _execute_cloud_call(\n\u001b[0m\u001b[1;32m    751\u001b[0m       \u001b[0m_get_cloud_projects\u001b[0m\u001b[0;34m(\u001b[0m\u001b[0;34m)\u001b[0m\u001b[0;34m\u001b[0m\u001b[0;34m\u001b[0m\u001b[0m\n\u001b[1;32m    752\u001b[0m       \u001b[0;34m.\u001b[0m\u001b[0mmaps\u001b[0m\u001b[0;34m(\u001b[0m\u001b[0;34m)\u001b[0m\u001b[0;34m\u001b[0m\u001b[0;34m\u001b[0m\u001b[0m\n",
            "\u001b[0;32m/usr/local/lib/python3.12/dist-packages/ee/data.py\u001b[0m in \u001b[0;36m_execute_cloud_call\u001b[0;34m(call, num_retries)\u001b[0m\n\u001b[1;32m    408\u001b[0m     \u001b[0;32mreturn\u001b[0m \u001b[0mcall\u001b[0m\u001b[0;34m.\u001b[0m\u001b[0mexecute\u001b[0m\u001b[0;34m(\u001b[0m\u001b[0mnum_retries\u001b[0m\u001b[0;34m=\u001b[0m\u001b[0mnum_retries\u001b[0m\u001b[0;34m)\u001b[0m\u001b[0;34m\u001b[0m\u001b[0;34m\u001b[0m\u001b[0m\n\u001b[1;32m    409\u001b[0m   \u001b[0;32mexcept\u001b[0m \u001b[0mgoogleapiclient\u001b[0m\u001b[0;34m.\u001b[0m\u001b[0merrors\u001b[0m\u001b[0;34m.\u001b[0m\u001b[0mHttpError\u001b[0m \u001b[0;32mas\u001b[0m \u001b[0me\u001b[0m\u001b[0;34m:\u001b[0m\u001b[0;34m\u001b[0m\u001b[0;34m\u001b[0m\u001b[0m\n\u001b[0;32m--> 410\u001b[0;31m     \u001b[0;32mraise\u001b[0m \u001b[0m_translate_cloud_exception\u001b[0m\u001b[0;34m(\u001b[0m\u001b[0me\u001b[0m\u001b[0;34m)\u001b[0m  \u001b[0;31m# pylint: disable=raise-missing-from\u001b[0m\u001b[0;34m\u001b[0m\u001b[0;34m\u001b[0m\u001b[0m\n\u001b[0m\u001b[1;32m    411\u001b[0m \u001b[0;34m\u001b[0m\u001b[0m\n\u001b[1;32m    412\u001b[0m \u001b[0;34m\u001b[0m\u001b[0m\n",
            "\u001b[0;31mEEException\u001b[0m: Image.load: Image asset 'projects/ee-sophieruehr/assets/RF_classification_ARG' not found (does not exist or caller does not have access)."
          ]
        }
      ]
    }
  ]
}